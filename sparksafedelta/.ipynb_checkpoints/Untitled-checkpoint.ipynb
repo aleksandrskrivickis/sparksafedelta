{
 "cells": [
  {
   "cell_type": "code",
   "execution_count": null,
   "metadata": {},
   "outputs": [],
   "source": [
    "import sparksafedelta"
   ]
  },
  {
   "cell_type": "code",
   "execution_count": 2,
   "metadata": {},
   "outputs": [
    {
     "ename": "AttributeError",
     "evalue": "'str' object has no attribute 'sql'",
     "output_type": "error",
     "traceback": [
      "\u001b[1;31m---------------------------------------------------------------------------\u001b[0m",
      "\u001b[1;31mAttributeError\u001b[0m                            Traceback (most recent call last)",
      "\u001b[1;32m<ipython-input-2-1884335f3393>\u001b[0m in \u001b[0;36m<module>\u001b[1;34m\u001b[0m\n\u001b[1;32m----> 1\u001b[1;33m \u001b[0msparksafedelta\u001b[0m\u001b[1;33m.\u001b[0m\u001b[0mdelta_write_safe\u001b[0m\u001b[1;33m(\u001b[0m\u001b[1;34m\"gsopkgo\"\u001b[0m\u001b[1;33m,\u001b[0m \u001b[1;34m\"context\"\u001b[0m\u001b[1;33m,\u001b[0m \u001b[1;34m\"bomod\"\u001b[0m\u001b[1;33m)\u001b[0m\u001b[1;33m\u001b[0m\u001b[1;33m\u001b[0m\u001b[0m\n\u001b[0m",
      "\u001b[1;32m~\\Desktop\\SparkSafeDelta\\sparksafedelta\\sparksafedelta.py\u001b[0m in \u001b[0;36mdelta_write_safe\u001b[1;34m(sp_df_to_write, SP_CONTEXT, DATABRICKS_TABLE_NAME)\u001b[0m\n\u001b[0;32m      1\u001b[0m \u001b[1;32mdef\u001b[0m \u001b[0mdelta_write_safe\u001b[0m\u001b[1;33m(\u001b[0m\u001b[0msp_df_to_write\u001b[0m\u001b[1;33m,\u001b[0m \u001b[0mSP_CONTEXT\u001b[0m\u001b[1;33m,\u001b[0m \u001b[0mDATABRICKS_TABLE_NAME\u001b[0m\u001b[1;33m)\u001b[0m\u001b[1;33m:\u001b[0m\u001b[1;33m\u001b[0m\u001b[1;33m\u001b[0m\u001b[0m\n\u001b[1;32m----> 2\u001b[1;33m     \u001b[0mmissing_columns\u001b[0m \u001b[1;33m=\u001b[0m \u001b[0mget_missing_columns\u001b[0m\u001b[1;33m(\u001b[0m\u001b[0msp_df_to_write\u001b[0m\u001b[1;33m,\u001b[0m \u001b[0mSP_CONTEXT\u001b[0m\u001b[1;33m,\u001b[0m \u001b[0mDATABRICKS_TABLE_NAME\u001b[0m\u001b[1;33m)\u001b[0m\u001b[1;33m\u001b[0m\u001b[1;33m\u001b[0m\u001b[0m\n\u001b[0m\u001b[0;32m      3\u001b[0m     \u001b[1;32mif\u001b[0m \u001b[0mmissing_columns\u001b[0m\u001b[1;33m:\u001b[0m\u001b[1;33m\u001b[0m\u001b[1;33m\u001b[0m\u001b[0m\n\u001b[0;32m      4\u001b[0m         \u001b[0mimplement_missing_columns\u001b[0m\u001b[1;33m(\u001b[0m\u001b[0mmissing_columns\u001b[0m\u001b[1;33m,\u001b[0m \u001b[0mSP_CONTEXT\u001b[0m\u001b[1;33m,\u001b[0m \u001b[0mDATABRICKS_TABLE_NAME\u001b[0m\u001b[1;33m)\u001b[0m\u001b[1;33m\u001b[0m\u001b[1;33m\u001b[0m\u001b[0m\n\u001b[0;32m      5\u001b[0m     \u001b[0msp_df_to_write\u001b[0m\u001b[1;33m.\u001b[0m\u001b[0mwrite\u001b[0m\u001b[1;33m.\u001b[0m\u001b[0minsertInto\u001b[0m\u001b[1;33m(\u001b[0m\u001b[0mDATABRICKS_TABLE_NAME\u001b[0m\u001b[1;33m)\u001b[0m\u001b[1;33m\u001b[0m\u001b[1;33m\u001b[0m\u001b[0m\n",
      "\u001b[1;32m~\\Desktop\\SparkSafeDelta\\sparksafedelta\\sparksafedelta.py\u001b[0m in \u001b[0;36mget_missing_columns\u001b[1;34m(sp_df_to_insert, SP_CONTEXT, DATABRICKS_TABLE_NAME)\u001b[0m\n\u001b[0;32m      7\u001b[0m \u001b[1;33m\u001b[0m\u001b[0m\n\u001b[0;32m      8\u001b[0m \u001b[1;32mdef\u001b[0m \u001b[0mget_missing_columns\u001b[0m\u001b[1;33m(\u001b[0m\u001b[0msp_df_to_insert\u001b[0m\u001b[1;33m,\u001b[0m \u001b[0mSP_CONTEXT\u001b[0m\u001b[1;33m,\u001b[0m \u001b[0mDATABRICKS_TABLE_NAME\u001b[0m\u001b[1;33m)\u001b[0m\u001b[1;33m:\u001b[0m\u001b[1;33m\u001b[0m\u001b[1;33m\u001b[0m\u001b[0m\n\u001b[1;32m----> 9\u001b[1;33m     \u001b[0mexisting_table\u001b[0m \u001b[1;33m=\u001b[0m \u001b[0mSP_CONTEXT\u001b[0m\u001b[1;33m.\u001b[0m\u001b[0msql\u001b[0m\u001b[1;33m(\u001b[0m\u001b[1;34m\"SELECT * FROM \"\u001b[0m \u001b[1;33m+\u001b[0m \u001b[0mDATABRICKS_TABLE_NAME\u001b[0m\u001b[1;33m)\u001b[0m\u001b[1;33m\u001b[0m\u001b[1;33m\u001b[0m\u001b[0m\n\u001b[0m\u001b[0;32m     10\u001b[0m     \u001b[0mexisting_columns\u001b[0m \u001b[1;33m=\u001b[0m \u001b[0mset\u001b[0m\u001b[1;33m(\u001b[0m\u001b[0mexisting_table\u001b[0m\u001b[1;33m.\u001b[0m\u001b[0mcolumns\u001b[0m\u001b[1;33m)\u001b[0m\u001b[1;33m\u001b[0m\u001b[1;33m\u001b[0m\u001b[0m\n\u001b[0;32m     11\u001b[0m     \u001b[0mnew_columns\u001b[0m \u001b[1;33m=\u001b[0m \u001b[0mset\u001b[0m\u001b[1;33m(\u001b[0m\u001b[0msp_df_to_insert\u001b[0m\u001b[1;33m.\u001b[0m\u001b[0mcolumns\u001b[0m\u001b[1;33m)\u001b[0m\u001b[1;33m\u001b[0m\u001b[1;33m\u001b[0m\u001b[0m\n",
      "\u001b[1;31mAttributeError\u001b[0m: 'str' object has no attribute 'sql'"
     ]
    }
   ],
   "source": [
    "sparksafedelta.delta_write_safe(\"gsopkgo\", \"context\", \"bomod\")"
   ]
  },
  {
   "cell_type": "code",
   "execution_count": null,
   "metadata": {},
   "outputs": [],
   "source": []
  }
 ],
 "metadata": {
  "kernelspec": {
   "display_name": "Python 3",
   "language": "python",
   "name": "python3"
  },
  "language_info": {
   "codemirror_mode": {
    "name": "ipython",
    "version": 3
   },
   "file_extension": ".py",
   "mimetype": "text/x-python",
   "name": "python",
   "nbconvert_exporter": "python",
   "pygments_lexer": "ipython3",
   "version": "3.7.1"
  }
 },
 "nbformat": 4,
 "nbformat_minor": 2
}
